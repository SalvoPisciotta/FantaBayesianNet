{
 "nbformat": 4,
 "nbformat_minor": 0,
 "metadata": {
  "colab": {
   "name": "FantaBayesianNet.ipynb",
   "provenance": [],
   "collapsed_sections": []
  },
  "kernelspec": {
   "name": "python3",
   "display_name": "Python 3"
  }
 },
 "cells": [
  {
   "cell_type": "code",
   "metadata": {
    "id": "Q08yeVka00S3"
   },
   "source": [
    "print(\"Fantabello\");\n",
    "print('ciao')"
   ],
   "execution_count": null,
   "outputs": []
  }
 ]
}