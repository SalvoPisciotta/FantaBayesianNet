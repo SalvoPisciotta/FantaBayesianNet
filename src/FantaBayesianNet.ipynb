{
 "cells": [
  {
   "cell_type": "markdown",
   "metadata": {
    "id": "K4YQX8FWou_O"
   },
   "source": [
    "# FantaBayesianNet"
   ]
  },
  {
   "cell_type": "code",
   "execution_count": 1,
   "metadata": {
    "colab": {
     "base_uri": "https://localhost:8080/"
    },
    "id": "igrRh2obogeL",
    "outputId": "962d918c-4515-4774-d34a-664311181082"
   },
   "outputs": [
    {
     "name": "stdout",
     "output_type": "stream",
     "text": [
      "Requirement already satisfied: pgmpy in c:\\users\\peppe\\appdata\\roaming\\python\\python38\\site-packages (0.1.13)\n",
      "Requirement already satisfied: scikit-learn in c:\\users\\peppe\\anaconda3\\lib\\site-packages (from pgmpy) (0.23.2)\n",
      "Requirement already satisfied: tqdm in c:\\users\\peppe\\anaconda3\\lib\\site-packages (from pgmpy) (4.50.2)\n",
      "Requirement already satisfied: scipy in c:\\users\\peppe\\anaconda3\\lib\\site-packages (from pgmpy) (1.5.2)\n",
      "Requirement already satisfied: pyparsing in c:\\users\\peppe\\anaconda3\\lib\\site-packages (from pgmpy) (2.4.7)\n",
      "Requirement already satisfied: joblib in c:\\users\\peppe\\anaconda3\\lib\\site-packages (from pgmpy) (0.17.0)\n",
      "Requirement already satisfied: pandas in c:\\users\\peppe\\anaconda3\\lib\\site-packages (from pgmpy) (1.1.3)\n",
      "Requirement already satisfied: statsmodels in c:\\users\\peppe\\anaconda3\\lib\\site-packages (from pgmpy) (0.12.0)\n",
      "Requirement already satisfied: networkx in c:\\users\\peppe\\anaconda3\\lib\\site-packages (from pgmpy) (2.5)\n",
      "Requirement already satisfied: numpy in c:\\users\\peppe\\anaconda3\\lib\\site-packages (from pgmpy) (1.19.2)\n",
      "Requirement already satisfied: torch in c:\\users\\peppe\\appdata\\roaming\\python\\python38\\site-packages (from pgmpy) (1.8.0)\n",
      "Requirement already satisfied: decorator>=4.3.0 in c:\\users\\peppe\\anaconda3\\lib\\site-packages (from networkx->pgmpy) (4.4.2)\n",
      "Requirement already satisfied: python-dateutil>=2.7.3 in c:\\users\\peppe\\anaconda3\\lib\\site-packages (from pandas->pgmpy) (2.8.1)\n",
      "Requirement already satisfied: pytz>=2017.2 in c:\\users\\peppe\\anaconda3\\lib\\site-packages (from pandas->pgmpy) (2020.1)\n",
      "Requirement already satisfied: six>=1.5 in c:\\users\\peppe\\anaconda3\\lib\\site-packages (from python-dateutil>=2.7.3->pandas->pgmpy) (1.15.0)\n",
      "Requirement already satisfied: threadpoolctl>=2.0.0 in c:\\users\\peppe\\anaconda3\\lib\\site-packages (from scikit-learn->pgmpy) (2.1.0)\n",
      "Requirement already satisfied: patsy>=0.5 in c:\\users\\peppe\\anaconda3\\lib\\site-packages (from statsmodels->pgmpy) (0.5.1)\n",
      "Requirement already satisfied: typing-extensions in c:\\users\\peppe\\anaconda3\\lib\\site-packages (from torch->pgmpy) (3.7.4.3)\n",
      "Requirement already satisfied: networkx in c:\\users\\peppe\\anaconda3\\lib\\site-packages (2.5)\n",
      "Requirement already satisfied: decorator>=4.3.0 in c:\\users\\peppe\\anaconda3\\lib\\site-packages (from networkx) (4.4.2)\n",
      "Requirement already satisfied: pip in c:\\users\\peppe\\appdata\\roaming\\python\\python38\\site-packages (21.0.1)\n"
     ]
    }
   ],
   "source": [
    "import sys\n",
    "!{sys.executable} -m pip install pgmpy\n",
    "!{sys.executable} -m pip install networkx\n",
    "!{sys.executable} -m pip install --upgrade pip"
   ]
  },
  {
   "cell_type": "markdown",
   "metadata": {
    "id": "pUzLSOruorNH"
   },
   "source": [
    "## 1. Define the model\n",
    "The first step consists in building the structure of our model, that is to define the relations between the involved variables.\n",
    "In the following lines we define the network model using pgmpy library and I display the resulting graph using networkx."
   ]
  },
  {
   "cell_type": "code",
   "execution_count": 2,
   "metadata": {
    "colab": {
     "base_uri": "https://localhost:8080/"
    },
    "id": "Q08yeVka00S3",
    "outputId": "9c235479-5981-46af-989a-26cb9b6b8b3b"
   },
   "outputs": [
    {
     "name": "stdout",
     "output_type": "stream",
     "text": [
      "Nodes: ['Red_card', 'Grade', 'Yellow_card', 'Goal', 'Assist', 'Unavailable', 'Minutes', 'Difficulty_match', 'Deployability']\n",
      "\n",
      "OutEdges: [('Red_card', 'Grade'), ('Grade', 'Deployability'), ('Yellow_card', 'Grade'), ('Goal', 'Grade'), ('Assist', 'Grade'), ('Unavailable', 'Minutes'), ('Minutes', 'Deployability'), ('Difficulty_match', 'Deployability')]\n"
     ]
    }
   ],
   "source": [
    "from pgmpy.models import BayesianModel\n",
    "\n",
    "model = BayesianModel([('Red_card', 'Grade'),\n",
    "                       ('Yellow_card', 'Grade'),\n",
    "                       ('Goal', 'Grade'),\n",
    "                       ('Assist', 'Grade'),\n",
    "                       ('Unavailable', 'Minutes'),\n",
    "                       ('Difficulty_match', 'Deployability'),\n",
    "                       ('Grade', 'Deployability'),\n",
    "                       ('Minutes', 'Deployability')\n",
    "                       ])\n",
    "\n",
    "#Network nodes and out-edges\n",
    "nodes = list(model.nodes())\n",
    "edges = list(model.edges())\n",
    "print(\"Nodes:\", nodes)\n",
    "print(\"\\nOutEdges:\", edges)"
   ]
  },
  {
   "cell_type": "code",
   "execution_count": null,
   "metadata": {
    "colab": {
     "base_uri": "https://localhost:8080/",
     "height": 575
    },
    "id": "DmVgL5pyo5lq",
    "outputId": "f3c5b299-8937-4cf6-c435-54eac5fc8dd8",
    "pycharm": {
     "is_executing": true
    }
   },
   "outputs": [],
   "source": [
    "import matplotlib.pyplot as plt\n",
    "import networkx as nx\n",
    "import numpy as np\n",
    "%matplotlib inline\n",
    "np.random.seed(8)\n",
    "\n",
    "DAG = nx.DiGraph()\n",
    "DAG.add_edges_from(edges)\n",
    "\n",
    "fig = plt.figure(figsize = (10,10))\n",
    "pos = nx.spring_layout(DAG) #Position nodes computed by using Fruchterman-Reingold force-directed algorithm.\n",
    "nx.draw_networkx_nodes(DAG, pos=pos, node_color='turquoise')\n",
    "nx.draw_networkx_labels(DAG, pos=pos)\n",
    "nx.draw_networkx_edges(DAG, pos=pos, edge_color='black', width = 1.5, arrows=True)\n",
    "plt.show()"
   ]
  },
  {
   "cell_type": "code",
   "execution_count": null,
   "metadata": {},
   "outputs": [],
   "source": []
  }
 ],
 "metadata": {
  "colab": {
   "collapsed_sections": [],
   "name": "FantaBayesianNet.ipynb",
   "provenance": []
  },
  "kernelspec": {
   "display_name": "Python 3",
   "language": "python",
   "name": "python3"
  },
  "language_info": {
   "codemirror_mode": {
    "name": "ipython",
    "version": 3
   },
   "file_extension": ".py",
   "mimetype": "text/x-python",
   "name": "python",
   "nbconvert_exporter": "python",
   "pygments_lexer": "ipython3",
   "version": "3.8.5"
  }
 },
 "nbformat": 4,
 "nbformat_minor": 1
}