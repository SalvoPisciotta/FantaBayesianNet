{
 "nbformat": 4,
 "nbformat_minor": 0,
 "metadata": {
  "colab": {
   "name": "FantaBayesianNet.ipynb",
   "provenance": [],
   "collapsed_sections": [],
   "toc_visible": true
  },
  "kernelspec": {
   "name": "python3",
   "language": "python",
   "display_name": "Python 3"
  }
 },
 "cells": [
  {
   "cell_type": "markdown",
   "metadata": {
    "id": "K4YQX8FWou_O"
   },
   "source": [
    "# FantaBayesianNet"
   ]
  },
  {
   "cell_type": "code",
   "metadata": {
    "colab": {
     "base_uri": "https://localhost:8080/"
    },
    "id": "igrRh2obogeL",
    "executionInfo": {
     "status": "ok",
     "timestamp": 1617436273980,
     "user_tz": -120,
     "elapsed": 10258,
     "user": {
      "displayName": "Giuseppe Boezio",
      "photoUrl": "https://lh3.googleusercontent.com/a-/AOh14GgXw0QluQ0Q2vtXOD9C5UruJqrW9EB0O5ga1d6X2g=s64",
      "userId": "03380153083709249267"
     }
    },
    "outputId": "ad324e81-284a-4b9a-ea16-3034313308e1"
   },
   "source": [
    "import sys\n",
    "!{sys.executable} -m pip install pgmpy\n",
    "!{sys.executable} -m pip install --upgrade pip"
   ],
   "execution_count": 2,
   "outputs": [
    {
     "output_type": "stream",
     "text": [
      "Collecting pgmpy\n",
      "\u001B[?25l  Downloading https://files.pythonhosted.org/packages/a3/0e/d9fadbfaa35e010c04d43acd3ae9fbefec98897dd7d61a6b7eb5a8b34072/pgmpy-0.1.14-py3-none-any.whl (331kB)\n",
      "\r\u001B[K     |█                               | 10kB 11.8MB/s eta 0:00:01\r\u001B[K     |██                              | 20kB 15.5MB/s eta 0:00:01\r\u001B[K     |███                             | 30kB 18.3MB/s eta 0:00:01\r\u001B[K     |████                            | 40kB 20.2MB/s eta 0:00:01\r\u001B[K     |█████                           | 51kB 21.5MB/s eta 0:00:01\r\u001B[K     |██████                          | 61kB 22.7MB/s eta 0:00:01\r\u001B[K     |███████                         | 71kB 23.8MB/s eta 0:00:01\r\u001B[K     |████████                        | 81kB 24.7MB/s eta 0:00:01\r\u001B[K     |█████████                       | 92kB 25.8MB/s eta 0:00:01\r\u001B[K     |█████████▉                      | 102kB 27.0MB/s eta 0:00:01\r\u001B[K     |██████████▉                     | 112kB 27.0MB/s eta 0:00:01\r\u001B[K     |███████████▉                    | 122kB 27.0MB/s eta 0:00:01\r\u001B[K     |████████████▉                   | 133kB 27.0MB/s eta 0:00:01\r\u001B[K     |█████████████▉                  | 143kB 27.0MB/s eta 0:00:01\r\u001B[K     |██████████████▉                 | 153kB 27.0MB/s eta 0:00:01\r\u001B[K     |███████████████▉                | 163kB 27.0MB/s eta 0:00:01\r\u001B[K     |████████████████▉               | 174kB 27.0MB/s eta 0:00:01\r\u001B[K     |█████████████████▉              | 184kB 27.0MB/s eta 0:00:01\r\u001B[K     |██████████████████▉             | 194kB 27.0MB/s eta 0:00:01\r\u001B[K     |███████████████████▊            | 204kB 27.0MB/s eta 0:00:01\r\u001B[K     |████████████████████▊           | 215kB 27.0MB/s eta 0:00:01\r\u001B[K     |█████████████████████▊          | 225kB 27.0MB/s eta 0:00:01\r\u001B[K     |██████████████████████▊         | 235kB 27.0MB/s eta 0:00:01\r\u001B[K     |███████████████████████▊        | 245kB 27.0MB/s eta 0:00:01\r\u001B[K     |████████████████████████▊       | 256kB 27.0MB/s eta 0:00:01\r\u001B[K     |█████████████████████████▊      | 266kB 27.0MB/s eta 0:00:01\r\u001B[K     |██████████████████████████▊     | 276kB 27.0MB/s eta 0:00:01\r\u001B[K     |███████████████████████████▊    | 286kB 27.0MB/s eta 0:00:01\r\u001B[K     |████████████████████████████▊   | 296kB 27.0MB/s eta 0:00:01\r\u001B[K     |█████████████████████████████▋  | 307kB 27.0MB/s eta 0:00:01\r\u001B[K     |██████████████████████████████▋ | 317kB 27.0MB/s eta 0:00:01\r\u001B[K     |███████████████████████████████▋| 327kB 27.0MB/s eta 0:00:01\r\u001B[K     |████████████████████████████████| 337kB 27.0MB/s \n",
      "\u001B[?25hRequirement already satisfied: statsmodels in /usr/local/lib/python3.7/dist-packages (from pgmpy) (0.10.2)\n",
      "Requirement already satisfied: networkx in /usr/local/lib/python3.7/dist-packages (from pgmpy) (2.5)\n",
      "Requirement already satisfied: pyparsing in /usr/local/lib/python3.7/dist-packages (from pgmpy) (2.4.7)\n",
      "Requirement already satisfied: scipy in /usr/local/lib/python3.7/dist-packages (from pgmpy) (1.4.1)\n",
      "Requirement already satisfied: tqdm in /usr/local/lib/python3.7/dist-packages (from pgmpy) (4.41.1)\n",
      "Requirement already satisfied: pandas in /usr/local/lib/python3.7/dist-packages (from pgmpy) (1.1.5)\n",
      "Requirement already satisfied: torch in /usr/local/lib/python3.7/dist-packages (from pgmpy) (1.8.1+cu101)\n",
      "Requirement already satisfied: joblib in /usr/local/lib/python3.7/dist-packages (from pgmpy) (1.0.1)\n",
      "Requirement already satisfied: scikit-learn in /usr/local/lib/python3.7/dist-packages (from pgmpy) (0.22.2.post1)\n",
      "Requirement already satisfied: numpy in /usr/local/lib/python3.7/dist-packages (from pgmpy) (1.19.5)\n",
      "Requirement already satisfied: patsy>=0.4.0 in /usr/local/lib/python3.7/dist-packages (from statsmodels->pgmpy) (0.5.1)\n",
      "Requirement already satisfied: decorator>=4.3.0 in /usr/local/lib/python3.7/dist-packages (from networkx->pgmpy) (4.4.2)\n",
      "Requirement already satisfied: pytz>=2017.2 in /usr/local/lib/python3.7/dist-packages (from pandas->pgmpy) (2018.9)\n",
      "Requirement already satisfied: python-dateutil>=2.7.3 in /usr/local/lib/python3.7/dist-packages (from pandas->pgmpy) (2.8.1)\n",
      "Requirement already satisfied: typing-extensions in /usr/local/lib/python3.7/dist-packages (from torch->pgmpy) (3.7.4.3)\n",
      "Requirement already satisfied: six in /usr/local/lib/python3.7/dist-packages (from patsy>=0.4.0->statsmodels->pgmpy) (1.15.0)\n",
      "Installing collected packages: pgmpy\n",
      "Successfully installed pgmpy-0.1.14\n",
      "Collecting pip\n",
      "\u001B[?25l  Downloading https://files.pythonhosted.org/packages/fe/ef/60d7ba03b5c442309ef42e7d69959f73aacccd0d86008362a681c4698e83/pip-21.0.1-py3-none-any.whl (1.5MB)\n",
      "\u001B[K     |████████████████████████████████| 1.5MB 23.3MB/s \n",
      "\u001B[?25hInstalling collected packages: pip\n",
      "  Found existing installation: pip 19.3.1\n",
      "    Uninstalling pip-19.3.1:\n",
      "      Successfully uninstalled pip-19.3.1\n",
      "Successfully installed pip-21.0.1\n"
     ],
     "name": "stdout"
    }
   ]
  },
  {
   "cell_type": "markdown",
   "metadata": {
    "id": "pUzLSOruorNH"
   },
   "source": [
    "## 1. Define the model\n",
    "The first step consists in building the structure of our model, that is to define the relations between the involved variables.\n",
    "In the following lines we define the network model using pgmpy library and I display the resulting graph using networkx."
   ]
  },
  {
   "cell_type": "code",
   "metadata": {
    "id": "Q08yeVka00S3",
    "colab": {
     "base_uri": "https://localhost:8080/"
    },
    "executionInfo": {
     "status": "ok",
     "timestamp": 1617436286651,
     "user_tz": -120,
     "elapsed": 4880,
     "user": {
      "displayName": "Giuseppe Boezio",
      "photoUrl": "https://lh3.googleusercontent.com/a-/AOh14GgXw0QluQ0Q2vtXOD9C5UruJqrW9EB0O5ga1d6X2g=s64",
      "userId": "03380153083709249267"
     }
    },
    "outputId": "338a12c3-2eaf-4771-c791-ad3f2fdc4b72"
   },
   "source": [
    "from pgmpy.models import BayesianModel\n",
    "\n",
    "# Grade = ([<=5.5], [6-7], [7.5-9], [>=9.5])\n",
    "\n",
    "\n",
    "model = BayesianModel([('red_card', 'grade_range'),\n",
    "                       ('yellow_card', 'grade_range'),\n",
    "                       ('goal', 'grade_range'),\n",
    "                       ('assist', 'grade_range'),\n",
    "                       ('available', 'starter'),\n",
    "                       ('starter', 'time_range'),\n",
    "                       #('TimeRange', 'Grade'),  # check after if with this edge better resuts come\n",
    "                       ('difficulty_match', 'deployability'),\n",
    "                       ('grade_range', 'deployability'),\n",
    "                       ('time_range', 'deployability')\n",
    "                       ])\n",
    "\n",
    "model_2 = BayesianModel([('red_card', 'grade_range'),\n",
    "                       ('yellow_card', 'grade_range'),\n",
    "                       ('goal', 'grade_range'),\n",
    "                       ('assist', 'grade_range'),\n",
    "                       ('available', 'starter'),\n",
    "                       ('starter', 'time_range'),\n",
    "                       ('time_range', 'grade_range'), \n",
    "                       ('difficulty_match', 'deployability'),\n",
    "                       ('grade_range', 'deployability'),\n",
    "                       ('time_range', 'deployability')\n",
    "                       ])\n",
    "\n",
    "#Network nodes and out-edges\n",
    "nodes = list(model.nodes())\n",
    "edges = list(model.edges())\n",
    "print(\"Nodes:\", nodes)\n",
    "print(\"\\nOutEdges:\", edges)"
   ],
   "execution_count": 3,
   "outputs": [
    {
     "output_type": "stream",
     "text": [
      "Nodes: ['red_card', 'grade_range', 'yellow_card', 'goal', 'assist', 'available', 'starter', 'time_range', 'difficulty_match', 'deployability']\n",
      "\n",
      "OutEdges: [('red_card', 'grade_range'), ('grade_range', 'deployability'), ('yellow_card', 'grade_range'), ('goal', 'grade_range'), ('assist', 'grade_range'), ('available', 'starter'), ('starter', 'time_range'), ('time_range', 'deployability'), ('difficulty_match', 'deployability')]\n"
     ],
     "name": "stdout"
    }
   ]
  },
  {
   "cell_type": "code",
   "metadata": {
    "colab": {
     "base_uri": "https://localhost:8080/",
     "height": 575
    },
    "id": "DmVgL5pyo5lq",
    "executionInfo": {
     "status": "ok",
     "timestamp": 1617436290560,
     "user_tz": -120,
     "elapsed": 1141,
     "user": {
      "displayName": "Giuseppe Boezio",
      "photoUrl": "https://lh3.googleusercontent.com/a-/AOh14GgXw0QluQ0Q2vtXOD9C5UruJqrW9EB0O5ga1d6X2g=s64",
      "userId": "03380153083709249267"
     }
    },
    "outputId": "eda3ff6c-dd61-4635-87da-f49df4cb099b"
   },
   "source": [
    "import matplotlib.pyplot as plt\n",
    "import networkx as nx\n",
    "import numpy as np\n",
    "%matplotlib inline\n",
    "np.random.seed(8)\n",
    "\n",
    "DAG = nx.DiGraph()\n",
    "DAG.add_edges_from(edges)\n",
    "\n",
    "fig = plt.figure(figsize = (10,10))\n",
    "pos = nx.spring_layout(DAG) #Position nodes computed by using Fruchterman-Reingold force-directed algorithm.\n",
    "nx.draw_networkx_nodes(DAG, pos=pos, node_color='turquoise')\n",
    "nx.draw_networkx_labels(DAG, pos=pos)\n",
    "nx.draw_networkx_edges(DAG, pos=pos, edge_color='black', width = 1.5, arrows=True)\n",
    "plt.show()"
   ],
   "execution_count": 4,
   "outputs": [
    {
     "output_type": "display_data",
     "data": {
      "image/png": "[encoded data removed]",
      "text/plain": [
       "<Figure size 720x720 with 1 Axes>"
      ]
     },
     "metadata": {
      "tags": []
     }
    }
   ]
  },
  {
   "cell_type": "code",
   "metadata": {
    "colab": {
     "resources": {
      "http://localhost:8080/nbextensions/google.colab/files.js": {
       "data": "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",
       "ok": true,
       "headers": [
        [
         "content-type",
         "application/javascript"
        ]
       ],
       "status": 200,
       "status_text": ""
      }
     },
     "base_uri": "https://localhost:8080/",
     "height": 174
    },
    "id": "GdeSnEFitcOT",
    "executionInfo": {
     "status": "ok",
     "timestamp": 1617437185902,
     "user_tz": -120,
     "elapsed": 12553,
     "user": {
      "displayName": "Giuseppe Boezio",
      "photoUrl": "https://lh3.googleusercontent.com/a-/AOh14GgXw0QluQ0Q2vtXOD9C5UruJqrW9EB0O5ga1d6X2g=s64",
      "userId": "03380153083709249267"
     }
    },
    "outputId": "9f0ba4ff-e709-4d97-935a-1ceec60df617"
   },
   "source": [
    "from google.colab import files\n",
    "upload = files.upload()"
   ],
   "execution_count": 13,
   "outputs": [
    {
     "output_type": "display_data",
     "data": {
      "text/html": [
       "\n",
       "     <input type=\"file\" id=\"files-7346aa3c-6b03-4dd1-9b6d-9eabc6c12439\" name=\"files[]\" multiple disabled\n",
       "        style=\"border:none\" />\n",
       "     <output id=\"result-7346aa3c-6b03-4dd1-9b6d-9eabc6c12439\">\n",
       "      Upload widget is only available when the cell has been executed in the\n",
       "      current browser session. Please rerun this cell to enable.\n",
       "      </output>\n",
       "      <script src=\"/nbextensions/google.colab/files.js\"></script> "
      ],
      "text/plain": [
       "<IPython.core.display.HTML object>"
      ]
     },
     "metadata": {
      "tags": []
     }
    },
    {
     "output_type": "stream",
     "text": [
      "Saving stats_lozano.csv to stats_lozano.csv\n",
      "Saving stats_morata.csv to stats_morata.csv\n",
      "Saving stats_muriel.csv to stats_muriel.csv\n",
      "Saving stats_simy.csv to stats_simy.csv\n"
     ],
     "name": "stdout"
    }
   ]
  },
  {
   "cell_type": "markdown",
   "metadata": {
    "id": "ghK2SAVB2BrH"
   },
   "source": [
    "# 2. Fitting the data"
   ]
  },
  {
   "cell_type": "code",
   "metadata": {
    "colab": {
     "base_uri": "https://localhost:8080/"
    },
    "id": "YEpII6r4s_-x",
    "executionInfo": {
     "status": "ok",
     "timestamp": 1617436772530,
     "user_tz": -120,
     "elapsed": 623,
     "user": {
      "displayName": "Giuseppe Boezio",
      "photoUrl": "https://lh3.googleusercontent.com/a-/AOh14GgXw0QluQ0Q2vtXOD9C5UruJqrW9EB0O5ga1d6X2g=s64",
      "userId": "03380153083709249267"
     }
    },
    "outputId": "4594e370-edb9-4589-808c-084e958dd5e5"
   },
   "source": [
    "import pandas as pd\n",
    "from pgmpy.estimators import BayesianEstimator\n",
    "\n",
    "# Loading player dataframe (Immobile)\n",
    "model_immobile = model.copy()\n",
    "df_immobile = pd.read_csv(\"stats_immobile.csv\")\n",
    "# Fitting model\n",
    "model_immobile.fit(df_immobile, estimator=BayesianEstimator,prior_type=\"BDeu\",equivalent_sample_size=10,complete_samples_only=False)\n",
    "print(\"Immobile\")\n",
    "print(model_immobile.get_cpds(\"grade_range\"))\n",
    "\n",
    "# Loading Ibrahimovic data\n",
    "model_ibrahimovic = model.copy()\n",
    "df_ibrahimovic = pd.read_csv(\"stats_ibrahimovic.csv\")\n",
    "# Fitting model\n",
    "model_ibrahimovic.fit(df_ibrahimovic, estimator=BayesianEstimator,prior_type='BDeu', equivalent_sample_size=1000)\n",
    "#print(\"Ibrahimovic\")\n",
    "#print(model_ibrahimovic.get_cpds(\"deployability\"))\n",
    "\n",
    "# Second version of the model, it provides better results wrt the real domain but smoothing...\n",
    "model_immobile_2 = model_2.copy()\n",
    "# Fitting model\n",
    "model_immobile_2.fit(df_immobile, estimator=BayesianEstimator,prior_type=\"BDeu\",equivalent_sample_size=10,complete_samples_only=False)\n",
    "print(\"Immobile second model\")\n",
    "print(model_immobile_2.get_cpds(\"grade_range\"))"
   ],
   "execution_count": 12,
   "outputs": [
    {
     "output_type": "stream",
     "text": [
      "Immobile\n",
      "+--------------------+----------------------+-------------------+---------------------+-------------------+----------------------+---------------------+--------------------+-------------------+----------------------+-------------------+--------------------+-------------------+---------------------+---------------------+--------------------+-------------------+\n",
      "| assist             | assist(False)        | assist(False)     | assist(False)       | assist(False)     | assist(False)        | assist(False)       | assist(False)      | assist(False)     | assist(True)         | assist(True)      | assist(True)       | assist(True)      | assist(True)        | assist(True)        | assist(True)       | assist(True)      |\n",
      "+--------------------+----------------------+-------------------+---------------------+-------------------+----------------------+---------------------+--------------------+-------------------+----------------------+-------------------+--------------------+-------------------+---------------------+---------------------+--------------------+-------------------+\n",
      "| goal               | goal(False)          | goal(False)       | goal(False)         | goal(False)       | goal(True)           | goal(True)          | goal(True)         | goal(True)        | goal(False)          | goal(False)       | goal(False)        | goal(False)       | goal(True)          | goal(True)          | goal(True)         | goal(True)        |\n",
      "+--------------------+----------------------+-------------------+---------------------+-------------------+----------------------+---------------------+--------------------+-------------------+----------------------+-------------------+--------------------+-------------------+---------------------+---------------------+--------------------+-------------------+\n",
      "| red_card           | red_card(False)      | red_card(False)   | red_card(True)      | red_card(True)    | red_card(False)      | red_card(False)     | red_card(True)     | red_card(True)    | red_card(False)      | red_card(False)   | red_card(True)     | red_card(True)    | red_card(False)     | red_card(False)     | red_card(True)     | red_card(True)    |\n",
      "+--------------------+----------------------+-------------------+---------------------+-------------------+----------------------+---------------------+--------------------+-------------------+----------------------+-------------------+--------------------+-------------------+---------------------+---------------------+--------------------+-------------------+\n",
      "| yellow_card        | yellow_card(False)   | yellow_card(True) | yellow_card(False)  | yellow_card(True) | yellow_card(False)   | yellow_card(True)   | yellow_card(False) | yellow_card(True) | yellow_card(False)   | yellow_card(True) | yellow_card(False) | yellow_card(True) | yellow_card(False)  | yellow_card(True)   | yellow_card(False) | yellow_card(True) |\n",
      "+--------------------+----------------------+-------------------+---------------------+-------------------+----------------------+---------------------+--------------------+-------------------+----------------------+-------------------+--------------------+-------------------+---------------------+---------------------+--------------------+-------------------+\n",
      "| grade_range(6-7)   | 0.3246753246753247   | 0.2               | 0.07692307692307693 | 0.2               | 0.0967741935483871   | 0.07692307692307693 | 0.2                | 0.2               | 0.047619047619047616 | 0.2               | 0.2                | 0.2               | 0.07692307692307693 | 0.07692307692307693 | 0.2                | 0.2               |\n",
      "+--------------------+----------------------+-------------------+---------------------+-------------------+----------------------+---------------------+--------------------+-------------------+----------------------+-------------------+--------------------+-------------------+---------------------+---------------------+--------------------+-------------------+\n",
      "| grade_range(7.5-9) | 0.012987012987012988 | 0.2               | 0.07692307692307693 | 0.2               | 0.0967741935483871   | 0.6923076923076923  | 0.2                | 0.2               | 0.42857142857142855  | 0.2               | 0.2                | 0.2               | 0.07692307692307693 | 0.07692307692307693 | 0.2                | 0.2               |\n",
      "+--------------------+----------------------+-------------------+---------------------+-------------------+----------------------+---------------------+--------------------+-------------------+----------------------+-------------------+--------------------+-------------------+---------------------+---------------------+--------------------+-------------------+\n",
      "| grade_range(<=5.5) | 0.42857142857142855  | 0.2               | 0.6923076923076923  | 0.2               | 0.010752688172043012 | 0.07692307692307693 | 0.2                | 0.2               | 0.42857142857142855  | 0.2               | 0.2                | 0.2               | 0.07692307692307693 | 0.07692307692307693 | 0.2                | 0.2               |\n",
      "+--------------------+----------------------+-------------------+---------------------+-------------------+----------------------+---------------------+--------------------+-------------------+----------------------+-------------------+--------------------+-------------------+---------------------+---------------------+--------------------+-------------------+\n",
      "| grade_range(>=9.5) | 0.012987012987012988 | 0.2               | 0.07692307692307693 | 0.2               | 0.7849462365591398   | 0.07692307692307693 | 0.2                | 0.2               | 0.047619047619047616 | 0.2               | 0.2                | 0.2               | 0.6923076923076923  | 0.6923076923076923  | 0.2                | 0.2               |\n",
      "+--------------------+----------------------+-------------------+---------------------+-------------------+----------------------+---------------------+--------------------+-------------------+----------------------+-------------------+--------------------+-------------------+---------------------+---------------------+--------------------+-------------------+\n",
      "| grade_range(sv)    | 0.22077922077922077  | 0.2               | 0.07692307692307693 | 0.2               | 0.010752688172043012 | 0.07692307692307693 | 0.2                | 0.2               | 0.047619047619047616 | 0.2               | 0.2                | 0.2               | 0.07692307692307693 | 0.07692307692307693 | 0.2                | 0.2               |\n",
      "+--------------------+----------------------+-------------------+---------------------+-------------------+----------------------+---------------------+--------------------+-------------------+----------------------+-------------------+--------------------+-------------------+---------------------+---------------------+--------------------+-------------------+\n",
      "Immobile second model\n",
      "+--------------------+---------------------+-------------------+--------------------+-------------------+----------------------+-------------------+--------------------+-------------------+--------------------+-------------------+---------------------+-------------------+--------------------+-------------------+--------------------+---------------------+----------------------+-------------------+--------------------+-------------------+--------------------+-------------------+--------------------+-------------------+--------------------+-------------------+--------------------+-------------------+---------------------+-------------------+--------------------+-------------------+--------------------+-------------------+--------------------+-------------------+--------------------+-------------------+--------------------+-------------------+---------------------+---------------------+--------------------+-------------------+--------------------+-------------------+--------------------+-------------------+\n",
      "| assist             | assist(False)       | assist(False)     | assist(False)      | assist(False)     | assist(False)        | assist(False)     | assist(False)      | assist(False)     | assist(False)      | assist(False)     | assist(False)       | assist(False)     | assist(False)      | assist(False)     | assist(False)      | assist(False)       | assist(False)        | assist(False)     | assist(False)      | assist(False)     | assist(False)      | assist(False)     | assist(False)      | assist(False)     | assist(True)       | assist(True)      | assist(True)       | assist(True)      | assist(True)        | assist(True)      | assist(True)       | assist(True)      | assist(True)       | assist(True)      | assist(True)       | assist(True)      | assist(True)       | assist(True)      | assist(True)       | assist(True)      | assist(True)        | assist(True)        | assist(True)       | assist(True)      | assist(True)       | assist(True)      | assist(True)       | assist(True)      |\n",
      "+--------------------+---------------------+-------------------+--------------------+-------------------+----------------------+-------------------+--------------------+-------------------+--------------------+-------------------+---------------------+-------------------+--------------------+-------------------+--------------------+---------------------+----------------------+-------------------+--------------------+-------------------+--------------------+-------------------+--------------------+-------------------+--------------------+-------------------+--------------------+-------------------+---------------------+-------------------+--------------------+-------------------+--------------------+-------------------+--------------------+-------------------+--------------------+-------------------+--------------------+-------------------+---------------------+---------------------+--------------------+-------------------+--------------------+-------------------+--------------------+-------------------+\n",
      "| goal               | goal(False)         | goal(False)       | goal(False)        | goal(False)       | goal(False)          | goal(False)       | goal(False)        | goal(False)       | goal(False)        | goal(False)       | goal(False)         | goal(False)       | goal(True)         | goal(True)        | goal(True)         | goal(True)          | goal(True)           | goal(True)        | goal(True)         | goal(True)        | goal(True)         | goal(True)        | goal(True)         | goal(True)        | goal(False)        | goal(False)       | goal(False)        | goal(False)       | goal(False)         | goal(False)       | goal(False)        | goal(False)       | goal(False)        | goal(False)       | goal(False)        | goal(False)       | goal(True)         | goal(True)        | goal(True)         | goal(True)        | goal(True)          | goal(True)          | goal(True)         | goal(True)        | goal(True)         | goal(True)        | goal(True)         | goal(True)        |\n",
      "+--------------------+---------------------+-------------------+--------------------+-------------------+----------------------+-------------------+--------------------+-------------------+--------------------+-------------------+---------------------+-------------------+--------------------+-------------------+--------------------+---------------------+----------------------+-------------------+--------------------+-------------------+--------------------+-------------------+--------------------+-------------------+--------------------+-------------------+--------------------+-------------------+---------------------+-------------------+--------------------+-------------------+--------------------+-------------------+--------------------+-------------------+--------------------+-------------------+--------------------+-------------------+---------------------+---------------------+--------------------+-------------------+--------------------+-------------------+--------------------+-------------------+\n",
      "| red_card           | red_card(False)     | red_card(False)   | red_card(False)    | red_card(False)   | red_card(False)      | red_card(False)   | red_card(True)     | red_card(True)    | red_card(True)     | red_card(True)    | red_card(True)      | red_card(True)    | red_card(False)    | red_card(False)   | red_card(False)    | red_card(False)     | red_card(False)      | red_card(False)   | red_card(True)     | red_card(True)    | red_card(True)     | red_card(True)    | red_card(True)     | red_card(True)    | red_card(False)    | red_card(False)   | red_card(False)    | red_card(False)   | red_card(False)     | red_card(False)   | red_card(True)     | red_card(True)    | red_card(True)     | red_card(True)    | red_card(True)     | red_card(True)    | red_card(False)    | red_card(False)   | red_card(False)    | red_card(False)   | red_card(False)     | red_card(False)     | red_card(True)     | red_card(True)    | red_card(True)     | red_card(True)    | red_card(True)     | red_card(True)    |\n",
      "+--------------------+---------------------+-------------------+--------------------+-------------------+----------------------+-------------------+--------------------+-------------------+--------------------+-------------------+---------------------+-------------------+--------------------+-------------------+--------------------+---------------------+----------------------+-------------------+--------------------+-------------------+--------------------+-------------------+--------------------+-------------------+--------------------+-------------------+--------------------+-------------------+---------------------+-------------------+--------------------+-------------------+--------------------+-------------------+--------------------+-------------------+--------------------+-------------------+--------------------+-------------------+---------------------+---------------------+--------------------+-------------------+--------------------+-------------------+--------------------+-------------------+\n",
      "| time_range         | time_range(0-15)    | time_range(0-15)  | time_range(16-45)  | time_range(16-45) | time_range(46-90)    | time_range(46-90) | time_range(0-15)   | time_range(0-15)  | time_range(16-45)  | time_range(16-45) | time_range(46-90)   | time_range(46-90) | time_range(0-15)   | time_range(0-15)  | time_range(16-45)  | time_range(16-45)   | time_range(46-90)    | time_range(46-90) | time_range(0-15)   | time_range(0-15)  | time_range(16-45)  | time_range(16-45) | time_range(46-90)  | time_range(46-90) | time_range(0-15)   | time_range(0-15)  | time_range(16-45)  | time_range(16-45) | time_range(46-90)   | time_range(46-90) | time_range(0-15)   | time_range(0-15)  | time_range(16-45)  | time_range(16-45) | time_range(46-90)  | time_range(46-90) | time_range(0-15)   | time_range(0-15)  | time_range(16-45)  | time_range(16-45) | time_range(46-90)   | time_range(46-90)   | time_range(0-15)   | time_range(0-15)  | time_range(16-45)  | time_range(16-45) | time_range(46-90)  | time_range(46-90) |\n",
      "+--------------------+---------------------+-------------------+--------------------+-------------------+----------------------+-------------------+--------------------+-------------------+--------------------+-------------------+---------------------+-------------------+--------------------+-------------------+--------------------+---------------------+----------------------+-------------------+--------------------+-------------------+--------------------+-------------------+--------------------+-------------------+--------------------+-------------------+--------------------+-------------------+---------------------+-------------------+--------------------+-------------------+--------------------+-------------------+--------------------+-------------------+--------------------+-------------------+--------------------+-------------------+---------------------+---------------------+--------------------+-------------------+--------------------+-------------------+--------------------+-------------------+\n",
      "| yellow_card        | yellow_card(False)  | yellow_card(True) | yellow_card(False) | yellow_card(True) | yellow_card(False)   | yellow_card(True) | yellow_card(False) | yellow_card(True) | yellow_card(False) | yellow_card(True) | yellow_card(False)  | yellow_card(True) | yellow_card(False) | yellow_card(True) | yellow_card(False) | yellow_card(True)   | yellow_card(False)   | yellow_card(True) | yellow_card(False) | yellow_card(True) | yellow_card(False) | yellow_card(True) | yellow_card(False) | yellow_card(True) | yellow_card(False) | yellow_card(True) | yellow_card(False) | yellow_card(True) | yellow_card(False)  | yellow_card(True) | yellow_card(False) | yellow_card(True) | yellow_card(False) | yellow_card(True) | yellow_card(False) | yellow_card(True) | yellow_card(False) | yellow_card(True) | yellow_card(False) | yellow_card(True) | yellow_card(False)  | yellow_card(True)   | yellow_card(False) | yellow_card(True) | yellow_card(False) | yellow_card(True) | yellow_card(False) | yellow_card(True) |\n",
      "+--------------------+---------------------+-------------------+--------------------+-------------------+----------------------+-------------------+--------------------+-------------------+--------------------+-------------------+---------------------+-------------------+--------------------+-------------------+--------------------+---------------------+----------------------+-------------------+--------------------+-------------------+--------------------+-------------------+--------------------+-------------------+--------------------+-------------------+--------------------+-------------------+---------------------+-------------------+--------------------+-------------------+--------------------+-------------------+--------------------+-------------------+--------------------+-------------------+--------------------+-------------------+---------------------+---------------------+--------------------+-------------------+--------------------+-------------------+--------------------+-------------------+\n",
      "| grade_range(6-7)   | 0.01886792452830189 | 0.2               | 0.2                | 0.2               | 0.4219653179190751   | 0.2               | 0.2                | 0.2               | 0.2                | 0.2               | 0.03448275862068965 | 0.2               | 0.2                | 0.2               | 0.2                | 0.03448275862068964 | 0.09293680297397772  | 0.2               | 0.2                | 0.2               | 0.2                | 0.2               | 0.2                | 0.2               | 0.2                | 0.2               | 0.2                | 0.2               | 0.01886792452830189 | 0.2               | 0.2                | 0.2               | 0.2                | 0.2               | 0.2                | 0.2               | 0.2                | 0.2               | 0.2                | 0.2               | 0.03448275862068965 | 0.03448275862068965 | 0.2                | 0.2               | 0.2                | 0.2               | 0.2                | 0.2               |\n",
      "+--------------------+---------------------+-------------------+--------------------+-------------------+----------------------+-------------------+--------------------+-------------------+--------------------+-------------------+---------------------+-------------------+--------------------+-------------------+--------------------+---------------------+----------------------+-------------------+--------------------+-------------------+--------------------+-------------------+--------------------+-------------------+--------------------+-------------------+--------------------+-------------------+---------------------+-------------------+--------------------+-------------------+--------------------+-------------------+--------------------+-------------------+--------------------+-------------------+--------------------+-------------------+---------------------+---------------------+--------------------+-------------------+--------------------+-------------------+--------------------+-------------------+\n",
      "| grade_range(7.5-9) | 0.01886792452830189 | 0.2               | 0.2                | 0.2               | 0.005780346820809247 | 0.2               | 0.2                | 0.2               | 0.2                | 0.2               | 0.03448275862068965 | 0.2               | 0.2                | 0.2               | 0.2                | 0.8620689655172412  | 0.09293680297397772  | 0.2               | 0.2                | 0.2               | 0.2                | 0.2               | 0.2                | 0.2               | 0.2                | 0.2               | 0.2                | 0.2               | 0.4716981132075473  | 0.2               | 0.2                | 0.2               | 0.2                | 0.2               | 0.2                | 0.2               | 0.2                | 0.2               | 0.2                | 0.2               | 0.03448275862068965 | 0.03448275862068965 | 0.2                | 0.2               | 0.2                | 0.2               | 0.2                | 0.2               |\n",
      "+--------------------+---------------------+-------------------+--------------------+-------------------+----------------------+-------------------+--------------------+-------------------+--------------------+-------------------+---------------------+-------------------+--------------------+-------------------+--------------------+---------------------+----------------------+-------------------+--------------------+-------------------+--------------------+-------------------+--------------------+-------------------+--------------------+-------------------+--------------------+-------------------+---------------------+-------------------+--------------------+-------------------+--------------------+-------------------+--------------------+-------------------+--------------------+-------------------+--------------------+-------------------+---------------------+---------------------+--------------------+-------------------+--------------------+-------------------+--------------------+-------------------+\n",
      "| grade_range(<=5.5) | 0.01886792452830189 | 0.2               | 0.2                | 0.2               | 0.5606936416184971   | 0.2               | 0.2                | 0.2               | 0.2                | 0.2               | 0.8620689655172413  | 0.2               | 0.2                | 0.2               | 0.2                | 0.03448275862068964 | 0.003717472118959108 | 0.2               | 0.2                | 0.2               | 0.2                | 0.2               | 0.2                | 0.2               | 0.2                | 0.2               | 0.2                | 0.2               | 0.4716981132075473  | 0.2               | 0.2                | 0.2               | 0.2                | 0.2               | 0.2                | 0.2               | 0.2                | 0.2               | 0.2                | 0.2               | 0.03448275862068965 | 0.03448275862068965 | 0.2                | 0.2               | 0.2                | 0.2               | 0.2                | 0.2               |\n",
      "+--------------------+---------------------+-------------------+--------------------+-------------------+----------------------+-------------------+--------------------+-------------------+--------------------+-------------------+---------------------+-------------------+--------------------+-------------------+--------------------+---------------------+----------------------+-------------------+--------------------+-------------------+--------------------+-------------------+--------------------+-------------------+--------------------+-------------------+--------------------+-------------------+---------------------+-------------------+--------------------+-------------------+--------------------+-------------------+--------------------+-------------------+--------------------+-------------------+--------------------+-------------------+---------------------+---------------------+--------------------+-------------------+--------------------+-------------------+--------------------+-------------------+\n",
      "| grade_range(>=9.5) | 0.01886792452830189 | 0.2               | 0.2                | 0.2               | 0.005780346820809247 | 0.2               | 0.2                | 0.2               | 0.2                | 0.2               | 0.03448275862068965 | 0.2               | 0.2                | 0.2               | 0.2                | 0.03448275862068964 | 0.8066914498141264   | 0.2               | 0.2                | 0.2               | 0.2                | 0.2               | 0.2                | 0.2               | 0.2                | 0.2               | 0.2                | 0.2               | 0.01886792452830189 | 0.2               | 0.2                | 0.2               | 0.2                | 0.2               | 0.2                | 0.2               | 0.2                | 0.2               | 0.2                | 0.2               | 0.8620689655172413  | 0.8620689655172413  | 0.2                | 0.2               | 0.2                | 0.2               | 0.2                | 0.2               |\n",
      "+--------------------+---------------------+-------------------+--------------------+-------------------+----------------------+-------------------+--------------------+-------------------+--------------------+-------------------+---------------------+-------------------+--------------------+-------------------+--------------------+---------------------+----------------------+-------------------+--------------------+-------------------+--------------------+-------------------+--------------------+-------------------+--------------------+-------------------+--------------------+-------------------+---------------------+-------------------+--------------------+-------------------+--------------------+-------------------+--------------------+-------------------+--------------------+-------------------+--------------------+-------------------+---------------------+---------------------+--------------------+-------------------+--------------------+-------------------+--------------------+-------------------+\n",
      "| grade_range(sv)    | 0.9245283018867925  | 0.2               | 0.2                | 0.2               | 0.005780346820809247 | 0.2               | 0.2                | 0.2               | 0.2                | 0.2               | 0.03448275862068965 | 0.2               | 0.2                | 0.2               | 0.2                | 0.03448275862068964 | 0.003717472118959108 | 0.2               | 0.2                | 0.2               | 0.2                | 0.2               | 0.2                | 0.2               | 0.2                | 0.2               | 0.2                | 0.2               | 0.01886792452830189 | 0.2               | 0.2                | 0.2               | 0.2                | 0.2               | 0.2                | 0.2               | 0.2                | 0.2               | 0.2                | 0.2               | 0.03448275862068965 | 0.03448275862068965 | 0.2                | 0.2               | 0.2                | 0.2               | 0.2                | 0.2               |\n",
      "+--------------------+---------------------+-------------------+--------------------+-------------------+----------------------+-------------------+--------------------+-------------------+--------------------+-------------------+---------------------+-------------------+--------------------+-------------------+--------------------+---------------------+----------------------+-------------------+--------------------+-------------------+--------------------+-------------------+--------------------+-------------------+--------------------+-------------------+--------------------+-------------------+---------------------+-------------------+--------------------+-------------------+--------------------+-------------------+--------------------+-------------------+--------------------+-------------------+--------------------+-------------------+---------------------+---------------------+--------------------+-------------------+--------------------+-------------------+--------------------+-------------------+\n"
     ],
     "name": "stdout"
    }
   ]
  },
  {
   "cell_type": "code",
   "metadata": {
    "colab": {
     "base_uri": "https://localhost:8080/",
     "height": 439
    },
    "id": "W2WrS6sqxXWA",
    "executionInfo": {
     "status": "ok",
     "timestamp": 1617437532012,
     "user_tz": -120,
     "elapsed": 582,
     "user": {
      "displayName": "Giuseppe Boezio",
      "photoUrl": "https://lh3.googleusercontent.com/a-/AOh14GgXw0QluQ0Q2vtXOD9C5UruJqrW9EB0O5ga1d6X2g=s64",
      "userId": "03380153083709249267"
     }
    },
    "outputId": "d8e343d9-bdc1-4d54-e840-e51e77ca5947"
   },
   "source": [
    "df_ibrahimovic = pd.read_csv(\"stats_ibrahimovic.csv\")\n",
    "df_immobile = pd.read_csv(\"stats_immobile.csv\")\n",
    "df_muriel = pd.read_csv(\"stats_muriel.csv\")\n",
    "df_simy = pd.read_csv(\"stats_simy.csv\")\n",
    "df_lozano = pd.read_csv(\"stats_lozano.csv\")\n",
    "df_morata = pd.read_csv(\"stats_morata.csv\")\n",
    "\n",
    "df = pd.concat([df_ibrahimovic, df_immobile, df_muriel, df_morata, df_lozano, df_simy])\n",
    "df"
   ],
   "execution_count": 15,
   "outputs": [
    {
     "output_type": "execute_result",
     "data": {
      "text/html": [
       "<div>\n",
       "<style scoped>\n",
       "    .dataframe tbody tr th:only-of-type {\n",
       "        vertical-align: middle;\n",
       "    }\n",
       "\n",
       "    .dataframe tbody tr th {\n",
       "        vertical-align: top;\n",
       "    }\n",
       "\n",
       "    .dataframe thead th {\n",
       "        text-align: right;\n",
       "    }\n",
       "</style>\n",
       "<table border=\"1\" class=\"dataframe\">\n",
       "  <thead>\n",
       "    <tr style=\"text-align: right;\">\n",
       "      <th></th>\n",
       "      <th>matchday</th>\n",
       "      <th>grade_range</th>\n",
       "      <th>goal</th>\n",
       "      <th>assist</th>\n",
       "      <th>yellow_card</th>\n",
       "      <th>red_card</th>\n",
       "      <th>available</th>\n",
       "      <th>starter</th>\n",
       "      <th>time_range</th>\n",
       "      <th>difficulty_match</th>\n",
       "      <th>deployability</th>\n",
       "    </tr>\n",
       "  </thead>\n",
       "  <tbody>\n",
       "    <tr>\n",
       "      <th>0</th>\n",
       "      <td>1</td>\n",
       "      <td>&gt;=9.5</td>\n",
       "      <td>True</td>\n",
       "      <td>False</td>\n",
       "      <td>False</td>\n",
       "      <td>False</td>\n",
       "      <td>True</td>\n",
       "      <td>True</td>\n",
       "      <td>46-90</td>\n",
       "      <td>1</td>\n",
       "      <td>True</td>\n",
       "    </tr>\n",
       "    <tr>\n",
       "      <th>1</th>\n",
       "      <td>2</td>\n",
       "      <td>sv</td>\n",
       "      <td>False</td>\n",
       "      <td>False</td>\n",
       "      <td>False</td>\n",
       "      <td>False</td>\n",
       "      <td>False</td>\n",
       "      <td>False</td>\n",
       "      <td>0-15</td>\n",
       "      <td>1</td>\n",
       "      <td>False</td>\n",
       "    </tr>\n",
       "    <tr>\n",
       "      <th>2</th>\n",
       "      <td>3</td>\n",
       "      <td>sv</td>\n",
       "      <td>False</td>\n",
       "      <td>False</td>\n",
       "      <td>False</td>\n",
       "      <td>False</td>\n",
       "      <td>False</td>\n",
       "      <td>False</td>\n",
       "      <td>0-15</td>\n",
       "      <td>1</td>\n",
       "      <td>False</td>\n",
       "    </tr>\n",
       "    <tr>\n",
       "      <th>3</th>\n",
       "      <td>4</td>\n",
       "      <td>&gt;=9.5</td>\n",
       "      <td>True</td>\n",
       "      <td>False</td>\n",
       "      <td>True</td>\n",
       "      <td>False</td>\n",
       "      <td>True</td>\n",
       "      <td>True</td>\n",
       "      <td>46-90</td>\n",
       "      <td>3</td>\n",
       "      <td>True</td>\n",
       "    </tr>\n",
       "    <tr>\n",
       "      <th>4</th>\n",
       "      <td>5</td>\n",
       "      <td>&gt;=9.5</td>\n",
       "      <td>True</td>\n",
       "      <td>False</td>\n",
       "      <td>True</td>\n",
       "      <td>False</td>\n",
       "      <td>True</td>\n",
       "      <td>True</td>\n",
       "      <td>46-90</td>\n",
       "      <td>2</td>\n",
       "      <td>True</td>\n",
       "    </tr>\n",
       "    <tr>\n",
       "      <th>...</th>\n",
       "      <td>...</td>\n",
       "      <td>...</td>\n",
       "      <td>...</td>\n",
       "      <td>...</td>\n",
       "      <td>...</td>\n",
       "      <td>...</td>\n",
       "      <td>...</td>\n",
       "      <td>...</td>\n",
       "      <td>...</td>\n",
       "      <td>...</td>\n",
       "      <td>...</td>\n",
       "    </tr>\n",
       "    <tr>\n",
       "      <th>23</th>\n",
       "      <td>24</td>\n",
       "      <td>&lt;=5.5</td>\n",
       "      <td>False</td>\n",
       "      <td>False</td>\n",
       "      <td>False</td>\n",
       "      <td>False</td>\n",
       "      <td>True</td>\n",
       "      <td>False</td>\n",
       "      <td>16-45</td>\n",
       "      <td>2</td>\n",
       "      <td>False</td>\n",
       "    </tr>\n",
       "    <tr>\n",
       "      <th>24</th>\n",
       "      <td>25</td>\n",
       "      <td>7.5-9</td>\n",
       "      <td>True</td>\n",
       "      <td>False</td>\n",
       "      <td>False</td>\n",
       "      <td>False</td>\n",
       "      <td>True</td>\n",
       "      <td>True</td>\n",
       "      <td>46-90</td>\n",
       "      <td>4</td>\n",
       "      <td>True</td>\n",
       "    </tr>\n",
       "    <tr>\n",
       "      <th>25</th>\n",
       "      <td>26</td>\n",
       "      <td>&gt;=9.5</td>\n",
       "      <td>True</td>\n",
       "      <td>False</td>\n",
       "      <td>False</td>\n",
       "      <td>False</td>\n",
       "      <td>True</td>\n",
       "      <td>True</td>\n",
       "      <td>46-90</td>\n",
       "      <td>2</td>\n",
       "      <td>True</td>\n",
       "    </tr>\n",
       "    <tr>\n",
       "      <th>26</th>\n",
       "      <td>27</td>\n",
       "      <td>&gt;=9.5</td>\n",
       "      <td>True</td>\n",
       "      <td>False</td>\n",
       "      <td>False</td>\n",
       "      <td>False</td>\n",
       "      <td>True</td>\n",
       "      <td>True</td>\n",
       "      <td>46-90</td>\n",
       "      <td>4</td>\n",
       "      <td>True</td>\n",
       "    </tr>\n",
       "    <tr>\n",
       "      <th>27</th>\n",
       "      <td>28</td>\n",
       "      <td>&gt;=9.5</td>\n",
       "      <td>True</td>\n",
       "      <td>False</td>\n",
       "      <td>False</td>\n",
       "      <td>False</td>\n",
       "      <td>True</td>\n",
       "      <td>True</td>\n",
       "      <td>46-90</td>\n",
       "      <td>3</td>\n",
       "      <td>True</td>\n",
       "    </tr>\n",
       "  </tbody>\n",
       "</table>\n",
       "<p>161 rows × 11 columns</p>\n",
       "</div>"
      ],
      "text/plain": [
       "    matchday grade_range   goal  ...  time_range  difficulty_match  deployability\n",
       "0          1       >=9.5   True  ...       46-90                 1           True\n",
       "1          2          sv  False  ...        0-15                 1          False\n",
       "2          3          sv  False  ...        0-15                 1          False\n",
       "3          4       >=9.5   True  ...       46-90                 3           True\n",
       "4          5       >=9.5   True  ...       46-90                 2           True\n",
       "..       ...         ...    ...  ...         ...               ...            ...\n",
       "23        24       <=5.5  False  ...       16-45                 2          False\n",
       "24        25       7.5-9   True  ...       46-90                 4           True\n",
       "25        26       >=9.5   True  ...       46-90                 2           True\n",
       "26        27       >=9.5   True  ...       46-90                 4           True\n",
       "27        28       >=9.5   True  ...       46-90                 3           True\n",
       "\n",
       "[161 rows x 11 columns]"
      ]
     },
     "metadata": {
      "tags": []
     },
     "execution_count": 15
    }
   ]
  },
  {
   "cell_type": "code",
   "metadata": {
    "colab": {
     "base_uri": "https://localhost:8080/"
    },
    "id": "Xai0I--2ywiZ",
    "executionInfo": {
     "status": "ok",
     "timestamp": 1617437731074,
     "user_tz": -120,
     "elapsed": 575,
     "user": {
      "displayName": "Giuseppe Boezio",
      "photoUrl": "https://lh3.googleusercontent.com/a-/AOh14GgXw0QluQ0Q2vtXOD9C5UruJqrW9EB0O5ga1d6X2g=s64",
      "userId": "03380153083709249267"
     }
    },
    "outputId": "ac18e698-bb34-4975-beba-1bdb7c2dd050"
   },
   "source": [
    "# Loading player dataframe (Immobile)\n",
    "# Fitting model\n",
    "model.fit(df, estimator=BayesianEstimator,prior_type=\"BDeu\",equivalent_sample_size=10,complete_samples_only=False)\n",
    "print(model.get_cpds(\"grade_range\"))\n",
    "\n",
    "# Fitting model\n",
    "model_2.fit(df, estimator=BayesianEstimator,prior_type=\"BDeu\",equivalent_sample_size=10,complete_samples_only=False)\n",
    "print(model_2.get_cpds(\"grade_range\"))\n"
   ],
   "execution_count": 16,
   "outputs": [
    {
     "output_type": "stream",
     "text": [
      "+--------------------+-----------------------+----------------------+---------------------+-------------------+----------------------+----------------------+---------------------+-------------------+----------------------+-------------------+--------------------+-------------------+----------------------+---------------------+--------------------+-------------------+\n",
      "| assist             | assist(False)         | assist(False)        | assist(False)       | assist(False)     | assist(False)        | assist(False)        | assist(False)       | assist(False)     | assist(True)         | assist(True)      | assist(True)       | assist(True)      | assist(True)         | assist(True)        | assist(True)       | assist(True)      |\n",
      "+--------------------+-----------------------+----------------------+---------------------+-------------------+----------------------+----------------------+---------------------+-------------------+----------------------+-------------------+--------------------+-------------------+----------------------+---------------------+--------------------+-------------------+\n",
      "| goal               | goal(False)           | goal(False)          | goal(False)         | goal(False)       | goal(True)           | goal(True)           | goal(True)          | goal(True)        | goal(False)          | goal(False)       | goal(False)        | goal(False)       | goal(True)           | goal(True)          | goal(True)         | goal(True)        |\n",
      "+--------------------+-----------------------+----------------------+---------------------+-------------------+----------------------+----------------------+---------------------+-------------------+----------------------+-------------------+--------------------+-------------------+----------------------+---------------------+--------------------+-------------------+\n",
      "| red_card           | red_card(False)       | red_card(False)      | red_card(True)      | red_card(True)    | red_card(False)      | red_card(False)      | red_card(True)      | red_card(True)    | red_card(False)      | red_card(False)   | red_card(True)     | red_card(True)    | red_card(False)      | red_card(False)     | red_card(True)     | red_card(True)    |\n",
      "+--------------------+-----------------------+----------------------+---------------------+-------------------+----------------------+----------------------+---------------------+-------------------+----------------------+-------------------+--------------------+-------------------+----------------------+---------------------+--------------------+-------------------+\n",
      "| yellow_card        | yellow_card(False)    | yellow_card(True)    | yellow_card(False)  | yellow_card(True) | yellow_card(False)   | yellow_card(True)    | yellow_card(False)  | yellow_card(True) | yellow_card(False)   | yellow_card(True) | yellow_card(False) | yellow_card(True) | yellow_card(False)   | yellow_card(True)   | yellow_card(False) | yellow_card(True) |\n",
      "+--------------------+-----------------------+----------------------+---------------------+-------------------+----------------------+----------------------+---------------------+-------------------+----------------------+-------------------+--------------------+-------------------+----------------------+---------------------+--------------------+-------------------+\n",
      "| grade_range(6-7)   | 0.2645739910313901    | 0.2                  | 0.07692307692307693 | 0.2               | 0.05105105105105105  | 0.022222222222222223 | 0.07692307692307693 | 0.2               | 0.6697247706422018   | 0.2               | 0.2                | 0.2               | 0.010752688172043012 | 0.07692307692307693 | 0.2                | 0.2               |\n",
      "+--------------------+-----------------------+----------------------+---------------------+-------------------+----------------------+----------------------+---------------------+-------------------+----------------------+-------------------+--------------------+-------------------+----------------------+---------------------+--------------------+-------------------+\n",
      "| grade_range(7.5-9) | 0.0014947683109118087 | 0.022222222222222223 | 0.07692307692307693 | 0.2               | 0.07507507507507508  | 0.37777777777777777  | 0.6923076923076923  | 0.2               | 0.22935779816513763  | 0.2               | 0.2                | 0.2               | 0.010752688172043012 | 0.07692307692307693 | 0.2                | 0.2               |\n",
      "+--------------------+-----------------------+----------------------+---------------------+-------------------+----------------------+----------------------+---------------------+-------------------+----------------------+-------------------+--------------------+-------------------+----------------------+---------------------+--------------------+-------------------+\n",
      "| grade_range(<=5.5) | 0.3602391629297459    | 0.7333333333333333   | 0.6923076923076923  | 0.2               | 0.003003003003003003 | 0.022222222222222223 | 0.07692307692307693 | 0.2               | 0.08256880733944955  | 0.2               | 0.2                | 0.2               | 0.010752688172043012 | 0.07692307692307693 | 0.2                | 0.2               |\n",
      "+--------------------+-----------------------+----------------------+---------------------+-------------------+----------------------+----------------------+---------------------+-------------------+----------------------+-------------------+--------------------+-------------------+----------------------+---------------------+--------------------+-------------------+\n",
      "| grade_range(>=9.5) | 0.0014947683109118087 | 0.022222222222222223 | 0.07692307692307693 | 0.2               | 0.8678678678678678   | 0.5555555555555556   | 0.07692307692307693 | 0.2               | 0.009174311926605505 | 0.2               | 0.2                | 0.2               | 0.956989247311828    | 0.6923076923076923  | 0.2                | 0.2               |\n",
      "+--------------------+-----------------------+----------------------+---------------------+-------------------+----------------------+----------------------+---------------------+-------------------+----------------------+-------------------+--------------------+-------------------+----------------------+---------------------+--------------------+-------------------+\n",
      "| grade_range(sv)    | 0.3721973094170404    | 0.022222222222222223 | 0.07692307692307693 | 0.2               | 0.003003003003003003 | 0.022222222222222223 | 0.07692307692307693 | 0.2               | 0.009174311926605505 | 0.2               | 0.2                | 0.2               | 0.010752688172043012 | 0.07692307692307693 | 0.2                | 0.2               |\n",
      "+--------------------+-----------------------+----------------------+---------------------+-------------------+----------------------+----------------------+---------------------+-------------------+----------------------+-------------------+--------------------+-------------------+----------------------+---------------------+--------------------+-------------------+\n",
      "+--------------------+-----------------------+-------------------+-----------------------+-------------------+----------------------+----------------------+--------------------+-------------------+--------------------+-------------------+---------------------+-------------------+--------------------+-------------------+----------------------+---------------------+----------------------+--------------------+--------------------+-------------------+--------------------+-------------------+---------------------+-------------------+--------------------+-------------------+---------------------+-------------------+----------------------+-------------------+--------------------+-------------------+--------------------+-------------------+--------------------+-------------------+--------------------+-------------------+---------------------+-------------------+----------------------+---------------------+--------------------+-------------------+--------------------+-------------------+--------------------+-------------------+\n",
      "| assist             | assist(False)         | assist(False)     | assist(False)         | assist(False)     | assist(False)        | assist(False)        | assist(False)      | assist(False)     | assist(False)      | assist(False)     | assist(False)       | assist(False)     | assist(False)      | assist(False)     | assist(False)        | assist(False)       | assist(False)        | assist(False)      | assist(False)      | assist(False)     | assist(False)      | assist(False)     | assist(False)       | assist(False)     | assist(True)       | assist(True)      | assist(True)        | assist(True)      | assist(True)         | assist(True)      | assist(True)       | assist(True)      | assist(True)       | assist(True)      | assist(True)       | assist(True)      | assist(True)       | assist(True)      | assist(True)        | assist(True)      | assist(True)         | assist(True)        | assist(True)       | assist(True)      | assist(True)       | assist(True)      | assist(True)       | assist(True)      |\n",
      "+--------------------+-----------------------+-------------------+-----------------------+-------------------+----------------------+----------------------+--------------------+-------------------+--------------------+-------------------+---------------------+-------------------+--------------------+-------------------+----------------------+---------------------+----------------------+--------------------+--------------------+-------------------+--------------------+-------------------+---------------------+-------------------+--------------------+-------------------+---------------------+-------------------+----------------------+-------------------+--------------------+-------------------+--------------------+-------------------+--------------------+-------------------+--------------------+-------------------+---------------------+-------------------+----------------------+---------------------+--------------------+-------------------+--------------------+-------------------+--------------------+-------------------+\n",
      "| goal               | goal(False)           | goal(False)       | goal(False)           | goal(False)       | goal(False)          | goal(False)          | goal(False)        | goal(False)       | goal(False)        | goal(False)       | goal(False)         | goal(False)       | goal(True)         | goal(True)        | goal(True)           | goal(True)          | goal(True)           | goal(True)         | goal(True)         | goal(True)        | goal(True)         | goal(True)        | goal(True)          | goal(True)        | goal(False)        | goal(False)       | goal(False)         | goal(False)       | goal(False)          | goal(False)       | goal(False)        | goal(False)       | goal(False)        | goal(False)       | goal(False)        | goal(False)       | goal(True)         | goal(True)        | goal(True)          | goal(True)        | goal(True)           | goal(True)          | goal(True)         | goal(True)        | goal(True)         | goal(True)        | goal(True)         | goal(True)        |\n",
      "+--------------------+-----------------------+-------------------+-----------------------+-------------------+----------------------+----------------------+--------------------+-------------------+--------------------+-------------------+---------------------+-------------------+--------------------+-------------------+----------------------+---------------------+----------------------+--------------------+--------------------+-------------------+--------------------+-------------------+---------------------+-------------------+--------------------+-------------------+---------------------+-------------------+----------------------+-------------------+--------------------+-------------------+--------------------+-------------------+--------------------+-------------------+--------------------+-------------------+---------------------+-------------------+----------------------+---------------------+--------------------+-------------------+--------------------+-------------------+--------------------+-------------------+\n",
      "| red_card           | red_card(False)       | red_card(False)   | red_card(False)       | red_card(False)   | red_card(False)      | red_card(False)      | red_card(True)     | red_card(True)    | red_card(True)     | red_card(True)    | red_card(True)      | red_card(True)    | red_card(False)    | red_card(False)   | red_card(False)      | red_card(False)     | red_card(False)      | red_card(False)    | red_card(True)     | red_card(True)    | red_card(True)     | red_card(True)    | red_card(True)      | red_card(True)    | red_card(False)    | red_card(False)   | red_card(False)     | red_card(False)   | red_card(False)      | red_card(False)   | red_card(True)     | red_card(True)    | red_card(True)     | red_card(True)    | red_card(True)     | red_card(True)    | red_card(False)    | red_card(False)   | red_card(False)     | red_card(False)   | red_card(False)      | red_card(False)     | red_card(True)     | red_card(True)    | red_card(True)     | red_card(True)    | red_card(True)     | red_card(True)    |\n",
      "+--------------------+-----------------------+-------------------+-----------------------+-------------------+----------------------+----------------------+--------------------+-------------------+--------------------+-------------------+---------------------+-------------------+--------------------+-------------------+----------------------+---------------------+----------------------+--------------------+--------------------+-------------------+--------------------+-------------------+---------------------+-------------------+--------------------+-------------------+---------------------+-------------------+----------------------+-------------------+--------------------+-------------------+--------------------+-------------------+--------------------+-------------------+--------------------+-------------------+---------------------+-------------------+----------------------+---------------------+--------------------+-------------------+--------------------+-------------------+--------------------+-------------------+\n",
      "| time_range         | time_range(0-15)      | time_range(0-15)  | time_range(16-45)     | time_range(16-45) | time_range(46-90)    | time_range(46-90)    | time_range(0-15)   | time_range(0-15)  | time_range(16-45)  | time_range(16-45) | time_range(46-90)   | time_range(46-90) | time_range(0-15)   | time_range(0-15)  | time_range(16-45)    | time_range(16-45)   | time_range(46-90)    | time_range(46-90)  | time_range(0-15)   | time_range(0-15)  | time_range(16-45)  | time_range(16-45) | time_range(46-90)   | time_range(46-90) | time_range(0-15)   | time_range(0-15)  | time_range(16-45)   | time_range(16-45) | time_range(46-90)    | time_range(46-90) | time_range(0-15)   | time_range(0-15)  | time_range(16-45)  | time_range(16-45) | time_range(46-90)  | time_range(46-90) | time_range(0-15)   | time_range(0-15)  | time_range(16-45)   | time_range(16-45) | time_range(46-90)    | time_range(46-90)   | time_range(0-15)   | time_range(0-15)  | time_range(16-45)  | time_range(16-45) | time_range(46-90)  | time_range(46-90) |\n",
      "+--------------------+-----------------------+-------------------+-----------------------+-------------------+----------------------+----------------------+--------------------+-------------------+--------------------+-------------------+---------------------+-------------------+--------------------+-------------------+----------------------+---------------------+----------------------+--------------------+--------------------+-------------------+--------------------+-------------------+---------------------+-------------------+--------------------+-------------------+---------------------+-------------------+----------------------+-------------------+--------------------+-------------------+--------------------+-------------------+--------------------+-------------------+--------------------+-------------------+---------------------+-------------------+----------------------+---------------------+--------------------+-------------------+--------------------+-------------------+--------------------+-------------------+\n",
      "| yellow_card        | yellow_card(False)    | yellow_card(True) | yellow_card(False)    | yellow_card(True) | yellow_card(False)   | yellow_card(True)    | yellow_card(False) | yellow_card(True) | yellow_card(False) | yellow_card(True) | yellow_card(False)  | yellow_card(True) | yellow_card(False) | yellow_card(True) | yellow_card(False)   | yellow_card(True)   | yellow_card(False)   | yellow_card(True)  | yellow_card(False) | yellow_card(True) | yellow_card(False) | yellow_card(True) | yellow_card(False)  | yellow_card(True) | yellow_card(False) | yellow_card(True) | yellow_card(False)  | yellow_card(True) | yellow_card(False)   | yellow_card(True) | yellow_card(False) | yellow_card(True) | yellow_card(False) | yellow_card(True) | yellow_card(False) | yellow_card(True) | yellow_card(False) | yellow_card(True) | yellow_card(False)  | yellow_card(True) | yellow_card(False)   | yellow_card(True)   | yellow_card(False) | yellow_card(True) | yellow_card(False) | yellow_card(True) | yellow_card(False) | yellow_card(True) |\n",
      "+--------------------+-----------------------+-------------------+-----------------------+-------------------+----------------------+----------------------+--------------------+-------------------+--------------------+-------------------+---------------------+-------------------+--------------------+-------------------+----------------------+---------------------+----------------------+--------------------+--------------------+-------------------+--------------------+-------------------+---------------------+-------------------+--------------------+-------------------+---------------------+-------------------+----------------------+-------------------+--------------------+-------------------+--------------------+-------------------+--------------------+-------------------+--------------------+-------------------+---------------------+-------------------+----------------------+---------------------+--------------------+-------------------+--------------------+-------------------+--------------------+-------------------+\n",
      "| grade_range(6-7)   | 0.061480552070263476  | 0.2               | 0.5945205479452055    | 0.2               | 0.31360946745562135  | 0.19999999999999998  | 0.2                | 0.2               | 0.2                | 0.2               | 0.03448275862068965 | 0.2               | 0.2                | 0.2               | 0.005780346820809247 | 0.03448275862068964 | 0.059683313032886716 | 0.0099009900990099 | 0.2                | 0.2               | 0.2                | 0.2               | 0.03448275862068964 | 0.2               | 0.2                | 0.2               | 0.9480519480519483  | 0.2               | 0.5918367346938777   | 0.2               | 0.2                | 0.2               | 0.2                | 0.2               | 0.2                | 0.2               | 0.2                | 0.2               | 0.03448275862068965 | 0.2               | 0.004081632653061225 | 0.03448275862068965 | 0.2                | 0.2               | 0.2                | 0.2               | 0.2                | 0.2               |\n",
      "+--------------------+-----------------------+-------------------+-----------------------+-------------------+----------------------+----------------------+--------------------+-------------------+--------------------+-------------------+---------------------+-------------------+--------------------+-------------------+----------------------+---------------------+----------------------+--------------------+--------------------+-------------------+--------------------+-------------------+---------------------+-------------------+--------------------+-------------------+---------------------+-------------------+----------------------+-------------------+--------------------+-------------------+--------------------+-------------------+--------------------+-------------------+--------------------+-------------------+---------------------+-------------------+----------------------+---------------------+--------------------+-------------------+--------------------+-------------------+--------------------+-------------------+\n",
      "| grade_range(7.5-9) | 0.0012547051442910915 | 0.2               | 0.0027397260273972603 | 0.2               | 0.001183431952662722 | 0.007999999999999998 | 0.2                | 0.2               | 0.2                | 0.2               | 0.03448275862068965 | 0.2               | 0.2                | 0.2               | 0.005780346820809247 | 0.8620689655172412  | 0.08891595615103531  | 0.2475247524752475 | 0.2                | 0.2               | 0.2                | 0.2               | 0.8620689655172412  | 0.2               | 0.2                | 0.2               | 0.01298701298701299 | 0.2               | 0.2979591836734694   | 0.2               | 0.2                | 0.2               | 0.2                | 0.2               | 0.2                | 0.2               | 0.2                | 0.2               | 0.03448275862068965 | 0.2               | 0.004081632653061225 | 0.03448275862068965 | 0.2                | 0.2               | 0.2                | 0.2               | 0.2                | 0.2               |\n",
      "+--------------------+-----------------------+-------------------+-----------------------+-------------------+----------------------+----------------------+--------------------+-------------------+--------------------+-------------------+---------------------+-------------------+--------------------+-------------------+----------------------+---------------------+----------------------+--------------------+--------------------+-------------------+--------------------+-------------------+---------------------+-------------------+--------------------+-------------------+---------------------+-------------------+----------------------+-------------------+--------------------+-------------------+--------------------+-------------------+--------------------+-------------------+--------------------+-------------------+---------------------+-------------------+----------------------+---------------------+--------------------+-------------------+--------------------+-------------------+--------------------+-------------------+\n",
      "| grade_range(<=5.5) | 0.0012547051442910915 | 0.2               | 0.3972602739726028    | 0.2               | 0.6828402366863907   | 0.776                | 0.2                | 0.2               | 0.2                | 0.2               | 0.8620689655172413  | 0.2               | 0.2                | 0.2               | 0.005780346820809247 | 0.03448275862068964 | 0.001218026796589525 | 0.0099009900990099 | 0.2                | 0.2               | 0.2                | 0.2               | 0.03448275862068964 | 0.2               | 0.2                | 0.2               | 0.01298701298701299 | 0.2               | 0.10204081632653063  | 0.2               | 0.2                | 0.2               | 0.2                | 0.2               | 0.2                | 0.2               | 0.2                | 0.2               | 0.03448275862068965 | 0.2               | 0.004081632653061225 | 0.03448275862068965 | 0.2                | 0.2               | 0.2                | 0.2               | 0.2                | 0.2               |\n",
      "+--------------------+-----------------------+-------------------+-----------------------+-------------------+----------------------+----------------------+--------------------+-------------------+--------------------+-------------------+---------------------+-------------------+--------------------+-------------------+----------------------+---------------------+----------------------+--------------------+--------------------+-------------------+--------------------+-------------------+---------------------+-------------------+--------------------+-------------------+---------------------+-------------------+----------------------+-------------------+--------------------+-------------------+--------------------+-------------------+--------------------+-------------------+--------------------+-------------------+---------------------+-------------------+----------------------+---------------------+--------------------+-------------------+--------------------+-------------------+--------------------+-------------------+\n",
      "| grade_range(>=9.5) | 0.0012547051442910915 | 0.2               | 0.0027397260273972603 | 0.2               | 0.001183431952662722 | 0.007999999999999998 | 0.2                | 0.2               | 0.2                | 0.2               | 0.03448275862068965 | 0.2               | 0.2                | 0.2               | 0.976878612716763    | 0.03448275862068964 | 0.8489646772228989   | 0.7227722772277226 | 0.2                | 0.2               | 0.2                | 0.2               | 0.03448275862068964 | 0.2               | 0.2                | 0.2               | 0.01298701298701299 | 0.2               | 0.004081632653061225 | 0.2               | 0.2                | 0.2               | 0.2                | 0.2               | 0.2                | 0.2               | 0.2                | 0.2               | 0.8620689655172413  | 0.2               | 0.9836734693877551   | 0.8620689655172413  | 0.2                | 0.2               | 0.2                | 0.2               | 0.2                | 0.2               |\n",
      "+--------------------+-----------------------+-------------------+-----------------------+-------------------+----------------------+----------------------+--------------------+-------------------+--------------------+-------------------+---------------------+-------------------+--------------------+-------------------+----------------------+---------------------+----------------------+--------------------+--------------------+-------------------+--------------------+-------------------+---------------------+-------------------+--------------------+-------------------+---------------------+-------------------+----------------------+-------------------+--------------------+-------------------+--------------------+-------------------+--------------------+-------------------+--------------------+-------------------+---------------------+-------------------+----------------------+---------------------+--------------------+-------------------+--------------------+-------------------+--------------------+-------------------+\n",
      "| grade_range(sv)    | 0.9347553324968632    | 0.2               | 0.0027397260273972603 | 0.2               | 0.001183431952662722 | 0.007999999999999998 | 0.2                | 0.2               | 0.2                | 0.2               | 0.03448275862068965 | 0.2               | 0.2                | 0.2               | 0.005780346820809247 | 0.03448275862068964 | 0.001218026796589525 | 0.0099009900990099 | 0.2                | 0.2               | 0.2                | 0.2               | 0.03448275862068964 | 0.2               | 0.2                | 0.2               | 0.01298701298701299 | 0.2               | 0.004081632653061225 | 0.2               | 0.2                | 0.2               | 0.2                | 0.2               | 0.2                | 0.2               | 0.2                | 0.2               | 0.03448275862068965 | 0.2               | 0.004081632653061225 | 0.03448275862068965 | 0.2                | 0.2               | 0.2                | 0.2               | 0.2                | 0.2               |\n",
      "+--------------------+-----------------------+-------------------+-----------------------+-------------------+----------------------+----------------------+--------------------+-------------------+--------------------+-------------------+---------------------+-------------------+--------------------+-------------------+----------------------+---------------------+----------------------+--------------------+--------------------+-------------------+--------------------+-------------------+---------------------+-------------------+--------------------+-------------------+---------------------+-------------------+----------------------+-------------------+--------------------+-------------------+--------------------+-------------------+--------------------+-------------------+--------------------+-------------------+---------------------+-------------------+----------------------+---------------------+--------------------+-------------------+--------------------+-------------------+--------------------+-------------------+\n"
     ],
     "name": "stdout"
    }
   ]
  }
 ]
}